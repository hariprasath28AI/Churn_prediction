{
 "cells": [
  {
   "cell_type": "markdown",
   "id": "8cc46283",
   "metadata": {},
   "source": [
    "# Customer Churn "
   ]
  },
  {
   "cell_type": "code",
   "execution_count": null,
   "id": "d8a6038d",
   "metadata": {},
   "outputs": [],
   "source": [
    "import pandas as pd\n",
    "import numpy as np\n",
    "from matplotlib import pyplot as plt\n",
    "import seaborn as sns\n",
    "import warnings\n",
    "warnings.filterwarnings('ignore')"
   ]
  },
  {
   "cell_type": "code",
   "execution_count": null,
   "id": "e8a1bcd1",
   "metadata": {},
   "outputs": [],
   "source": [
    "df = pd.read_csv('WA_Fn-UseC_-Telco-Customer-Churn.csv')"
   ]
  },
  {
   "cell_type": "code",
   "execution_count": null,
   "id": "bdb2eaf4",
   "metadata": {},
   "outputs": [],
   "source": [
    "df"
   ]
  },
  {
   "cell_type": "code",
   "execution_count": null,
   "id": "3895e311",
   "metadata": {},
   "outputs": [],
   "source": [
    "df.info()"
   ]
  },
  {
   "cell_type": "code",
   "execution_count": null,
   "id": "75728df2",
   "metadata": {},
   "outputs": [],
   "source": [
    "del df['customerID']"
   ]
  },
  {
   "cell_type": "markdown",
   "id": "7de291bd",
   "metadata": {},
   "source": [
    " **Quick EDA using sweetviz**"
   ]
  },
  {
   "cell_type": "code",
   "execution_count": null,
   "id": "5b717111",
   "metadata": {
    "scrolled": true
   },
   "outputs": [],
   "source": [
    "import sweetviz as sv\n",
    "\n",
    "#EDA using Autoviz\n",
    "sweet_report = sv.analyze(df)\n"
   ]
  },
  {
   "cell_type": "code",
   "execution_count": null,
   "id": "7e716a74",
   "metadata": {},
   "outputs": [],
   "source": [
    "sweet_report.show_html('sweet_report.html')\n"
   ]
  },
  {
   "cell_type": "code",
   "execution_count": null,
   "id": "59fc7afb",
   "metadata": {},
   "outputs": [],
   "source": [
    "print(df.value_counts(['Churn']))\n",
    "plt.pie(df.value_counts(['Churn']),labels=['no','yes'],autopct='%.1f%%')\n",
    "plt.show()"
   ]
  },
  {
   "cell_type": "code",
   "execution_count": null,
   "id": "61daa2b5",
   "metadata": {},
   "outputs": [],
   "source": [
    "df['TotalCharges'].value_counts()"
   ]
  },
  {
   "cell_type": "code",
   "execution_count": null,
   "id": "cc6da9ae",
   "metadata": {},
   "outputs": [],
   "source": [
    "df.shape"
   ]
  },
  {
   "cell_type": "code",
   "execution_count": null,
   "id": "c2f59f05",
   "metadata": {},
   "outputs": [],
   "source": [
    "df1 = df[df['TotalCharges'] != ' ']\n"
   ]
  },
  {
   "cell_type": "code",
   "execution_count": null,
   "id": "1cf971bd",
   "metadata": {},
   "outputs": [],
   "source": [
    "df1.shape"
   ]
  },
  {
   "cell_type": "code",
   "execution_count": null,
   "id": "f6d88325",
   "metadata": {},
   "outputs": [],
   "source": [
    "df1['TotalCharges'] = df1['TotalCharges'].astype('float')"
   ]
  },
  {
   "cell_type": "code",
   "execution_count": null,
   "id": "1c49c58d",
   "metadata": {},
   "outputs": [],
   "source": [
    "df1['TotalCharges']"
   ]
  },
  {
   "cell_type": "code",
   "execution_count": null,
   "id": "6191d8b8",
   "metadata": {},
   "outputs": [],
   "source": [
    "obj_col = df1.select_dtypes('object').columns"
   ]
  },
  {
   "cell_type": "code",
   "execution_count": null,
   "id": "1ba8f855",
   "metadata": {
    "scrolled": true
   },
   "outputs": [],
   "source": [
    "for col in obj_col:\n",
    "    print(col,':',df[col].unique())"
   ]
  },
  {
   "cell_type": "code",
   "execution_count": null,
   "id": "fdc2d7b8",
   "metadata": {},
   "outputs": [],
   "source": [
    "df1.replace('No internet service','No',inplace = True)\n",
    "df1.replace('No phone service','No',inplace=True)\n",
    "df1.replace('DSL','Yes',inplace=True)\n",
    "df1.replace('Fiber optic','Yes',inplace=True)"
   ]
  },
  {
   "cell_type": "code",
   "execution_count": null,
   "id": "0fdab967",
   "metadata": {},
   "outputs": [],
   "source": [
    "col = list(obj_col)"
   ]
  },
  {
   "cell_type": "code",
   "execution_count": null,
   "id": "a6b8a5ce",
   "metadata": {},
   "outputs": [],
   "source": [
    "from sklearn.preprocessing import LabelEncoder\n",
    "le = LabelEncoder()"
   ]
  },
  {
   "cell_type": "code",
   "execution_count": null,
   "id": "f8ccb24e",
   "metadata": {},
   "outputs": [],
   "source": [
    "df1[col] = df1[col].apply(le.fit_transform)"
   ]
  },
  {
   "cell_type": "code",
   "execution_count": null,
   "id": "d6c65dd2",
   "metadata": {},
   "outputs": [],
   "source": [
    "col_scale = ['tenure', 'MonthlyCharges','TotalCharges']\n",
    "\n",
    "from sklearn.preprocessing import MinMaxScaler\n",
    "scaler = MinMaxScaler()\n",
    "df1[col_scale] = scaler.fit_transform(df1[col_scale])"
   ]
  },
  {
   "cell_type": "code",
   "execution_count": null,
   "id": "4164363a",
   "metadata": {
    "scrolled": true
   },
   "outputs": [],
   "source": [
    "df1"
   ]
  },
  {
   "cell_type": "code",
   "execution_count": null,
   "id": "0efa4710",
   "metadata": {},
   "outputs": [],
   "source": [
    "df1.DeviceProtection.value_counts()"
   ]
  },
  {
   "cell_type": "code",
   "execution_count": null,
   "id": "c255d406",
   "metadata": {},
   "outputs": [],
   "source": [
    "X = df1.drop('Churn', axis = 1)\n",
    "y = df1['Churn']"
   ]
  },
  {
   "cell_type": "code",
   "execution_count": null,
   "id": "23b0c9f5",
   "metadata": {
    "scrolled": true
   },
   "outputs": [],
   "source": [
    "X.shape,y.shape"
   ]
  },
  {
   "cell_type": "code",
   "execution_count": null,
   "id": "71d36265",
   "metadata": {},
   "outputs": [],
   "source": [
    "# Selecting Features using selectkbest gives best features based on chi-square test"
   ]
  },
  {
   "cell_type": "code",
   "execution_count": null,
   "id": "7264453a",
   "metadata": {},
   "outputs": [],
   "source": [
    "from sklearn.feature_selection import SelectKBest\n",
    "from sklearn.feature_selection import chi2"
   ]
  },
  {
   "cell_type": "code",
   "execution_count": null,
   "id": "8fc26f5c",
   "metadata": {
    "scrolled": true
   },
   "outputs": [],
   "source": [
    "bestfeatures = SelectKBest(score_func=chi2, k=6)\n",
    "fit = bestfeatures.fit(X,y)\n",
    "dfscores = pd.DataFrame(fit.scores_)\n",
    "\n",
    "dfcolumns = pd.DataFrame(X.columns)\n",
    "featureScores = pd.concat([dfcolumns,dfscores],axis=1)\n",
    "featureScores.columns = ['Features','Score']\n",
    "print(featureScores.nlargest(6,'Score'))"
   ]
  },
  {
   "cell_type": "code",
   "execution_count": null,
   "id": "dcfe680d",
   "metadata": {},
   "outputs": [],
   "source": [
    "X_new= df1[['Contract','OnlineSecurity','TechSupport','tenure','OnlineBackup','MonthlyCharges']].values"
   ]
  },
  {
   "cell_type": "code",
   "execution_count": null,
   "id": "c99dbf66",
   "metadata": {},
   "outputs": [],
   "source": [
    "X_new.shape"
   ]
  },
  {
   "cell_type": "code",
   "execution_count": null,
   "id": "cffe67b4",
   "metadata": {},
   "outputs": [],
   "source": [
    "from sklearn.model_selection import train_test_split\n",
    "X_train,X_test,y_train,y_test = train_test_split(X_new,y,test_size = 0.3,random_state = 35,stratify=y)"
   ]
  },
  {
   "cell_type": "code",
   "execution_count": null,
   "id": "c59a86fc",
   "metadata": {},
   "outputs": [],
   "source": [
    "# since the target(Churn) is imbalanced,it may not be a generalized model,so we're using SMOTE Upsampling to balance the data"
   ]
  },
  {
   "cell_type": "code",
   "execution_count": null,
   "id": "7505f34e",
   "metadata": {},
   "outputs": [],
   "source": [
    "from imblearn.over_sampling import SMOTE\n",
    "sm = SMOTE(random_state=42, sampling_strategy = 'minority')\n",
    "X_train_, y_train_ = sm.fit_resample(X_train, y_train)"
   ]
  },
  {
   "cell_type": "code",
   "execution_count": null,
   "id": "16efd03e",
   "metadata": {},
   "outputs": [],
   "source": [
    "X_train_.shape,y_train_.shape"
   ]
  },
  {
   "cell_type": "code",
   "execution_count": null,
   "id": "5cb61d54",
   "metadata": {},
   "outputs": [],
   "source": [
    "y_train_.value_counts()"
   ]
  },
  {
   "cell_type": "code",
   "execution_count": null,
   "id": "2ead3a4e",
   "metadata": {},
   "outputs": [],
   "source": [
    "import dabl\n",
    "aml = dabl.SimpleClassifier(random_state = 42)\n"
   ]
  },
  {
   "cell_type": "code",
   "execution_count": null,
   "id": "5d347c7e",
   "metadata": {
    "scrolled": true
   },
   "outputs": [],
   "source": [
    "aml.fit(X_train_,y_train_)"
   ]
  },
  {
   "cell_type": "code",
   "execution_count": null,
   "id": "511d54fa",
   "metadata": {},
   "outputs": [],
   "source": [
    "from sklearn.tree import DecisionTreeClassifier\n",
    "dt = DecisionTreeClassifier(max_depth = 5,class_weight = 'balanced')\n",
    "dt.fit(X_train_,y_train_)"
   ]
  },
  {
   "cell_type": "code",
   "execution_count": null,
   "id": "561a3c6e",
   "metadata": {},
   "outputs": [],
   "source": [
    "from sklearn.ensemble import AdaBoostClassifier\n",
    "adb  = AdaBoostClassifier(dt)\n",
    "adb.fit(X_train_,y_train_)"
   ]
  },
  {
   "cell_type": "code",
   "execution_count": null,
   "id": "bf8e7a2f",
   "metadata": {},
   "outputs": [],
   "source": [
    "y_pred_ml = adb.predict(X_test)"
   ]
  },
  {
   "cell_type": "code",
   "execution_count": null,
   "id": "5ec9b09b",
   "metadata": {},
   "outputs": [],
   "source": [
    "from sklearn.metrics import confusion_matrix , classification_report\n",
    "\n",
    "print(classification_report(y_test,y_pred_ml))"
   ]
  },
  {
   "cell_type": "code",
   "execution_count": null,
   "id": "2fcd4db6",
   "metadata": {
    "scrolled": true
   },
   "outputs": [],
   "source": [
    "import tensorflow as tf"
   ]
  },
  {
   "cell_type": "markdown",
   "id": "8baa40cd",
   "metadata": {},
   "source": [
    "**Build a neural network model in tensorflow/keras**"
   ]
  },
  {
   "cell_type": "code",
   "execution_count": null,
   "id": "7936082c",
   "metadata": {},
   "outputs": [],
   "source": [
    "from tensorflow.keras.layers import Dense\n",
    "from tensorflow.keras.models import Sequential\n",
    "from tensorflow.keras.layers import BatchNormalization"
   ]
  },
  {
   "cell_type": "code",
   "execution_count": null,
   "id": "cb00abfc",
   "metadata": {},
   "outputs": [],
   "source": [
    "model = Sequential()\n",
    "model.add(Dense(6, input_shape=(6,), activation='relu'))\n",
    "model.add(Dense(18, activation='relu'))\n",
    "model.add(BatchNormalization())\n",
    "model.add(Dense(14, activation='relu'))\n",
    "model.add(BatchNormalization())\n",
    "model.add(Dense(1, activation='sigmoid'))\n",
    "model.compile(optimizer='adam',loss='binary_crossentropy',metrics=['accuracy'])"
   ]
  },
  {
   "cell_type": "code",
   "execution_count": null,
   "id": "fc6acd3f",
   "metadata": {},
   "outputs": [],
   "source": [
    "model.fit(X_train_, y_train_, epochs=25,validation_split= 0.2)"
   ]
  },
  {
   "cell_type": "code",
   "execution_count": null,
   "id": "e735030b",
   "metadata": {},
   "outputs": [],
   "source": [
    "\n",
    "plt.plot(model.history.history['accuracy'])\n",
    "plt.plot(model.history.history['val_accuracy'])\n",
    "plt.ylabel('accuracy')\n",
    "plt.xlabel('epoch')\n",
    "plt.legend(['accuracy', 'validation accuracy'])"
   ]
  },
  {
   "cell_type": "code",
   "execution_count": null,
   "id": "131d3524",
   "metadata": {},
   "outputs": [],
   "source": [
    "model.evaluate(X_test, y_test)"
   ]
  },
  {
   "cell_type": "code",
   "execution_count": null,
   "id": "b8b493b7",
   "metadata": {},
   "outputs": [],
   "source": [
    "model.summary()"
   ]
  },
  {
   "cell_type": "code",
   "execution_count": null,
   "id": "f4ee50eb",
   "metadata": {},
   "outputs": [],
   "source": [
    "yp= model.predict(X_test)"
   ]
  },
  {
   "cell_type": "code",
   "execution_count": null,
   "id": "38ee95f3",
   "metadata": {},
   "outputs": [],
   "source": [
    "y_pred = []\n",
    "for element in yp:\n",
    "    if element > 0.5:\n",
    "        y_pred.append(1)\n",
    "    else:\n",
    "        y_pred.append(0)"
   ]
  },
  {
   "cell_type": "code",
   "execution_count": null,
   "id": "50232d51",
   "metadata": {},
   "outputs": [],
   "source": [
    "len(y_pred)"
   ]
  },
  {
   "cell_type": "code",
   "execution_count": null,
   "id": "5e398fa3",
   "metadata": {},
   "outputs": [],
   "source": [
    "from sklearn.metrics import confusion_matrix , classification_report\n",
    "\n",
    "print(classification_report(y_test,y_pred))"
   ]
  },
  {
   "cell_type": "code",
   "execution_count": null,
   "id": "296e6b15",
   "metadata": {
    "scrolled": true
   },
   "outputs": [],
   "source": []
  },
  {
   "cell_type": "code",
   "execution_count": null,
   "id": "dce254d0",
   "metadata": {},
   "outputs": [],
   "source": []
  },
  {
   "cell_type": "code",
   "execution_count": null,
   "id": "00e001a5",
   "metadata": {},
   "outputs": [],
   "source": []
  }
 ],
 "metadata": {
  "kernelspec": {
   "display_name": "Python 3.9 (tensorflow)",
   "language": "python",
   "name": "tensorflow"
  },
  "language_info": {
   "codemirror_mode": {
    "name": "ipython",
    "version": 3
   },
   "file_extension": ".py",
   "mimetype": "text/x-python",
   "name": "python",
   "nbconvert_exporter": "python",
   "pygments_lexer": "ipython3",
   "version": "3.9.13"
  }
 },
 "nbformat": 4,
 "nbformat_minor": 5
}
